{
 "cells": [
  {
   "cell_type": "markdown",
   "metadata": {},
   "source": [
    "# Importation des Images et cration du jeu de données"
   ]
  },
  {
   "cell_type": "code",
   "execution_count": 1,
   "metadata": {},
   "outputs": [
    {
     "name": "stdout",
     "output_type": "stream",
     "text": [
      "Requirement already satisfied: pillow in c:\\users\\paulz\\desktop\\projet_master\\venv\\lib\\site-packages (from -r C:/Users/paulz/Desktop/projet_master/requierments.txt (line 1)) (10.3.0)\n",
      "Requirement already satisfied: requests in c:\\users\\paulz\\desktop\\projet_master\\venv\\lib\\site-packages (from -r C:/Users/paulz/Desktop/projet_master/requierments.txt (line 2)) (2.31.0)\n",
      "Requirement already satisfied: bs4 in c:\\users\\paulz\\desktop\\projet_master\\venv\\lib\\site-packages (from -r C:/Users/paulz/Desktop/projet_master/requierments.txt (line 3)) (0.0.2)\n",
      "Requirement already satisfied: matplotlib in c:\\users\\paulz\\desktop\\projet_master\\venv\\lib\\site-packages (from -r C:/Users/paulz/Desktop/projet_master/requierments.txt (line 4)) (3.8.4)\n",
      "Requirement already satisfied: opencv-python in c:\\users\\paulz\\desktop\\projet_master\\venv\\lib\\site-packages (from -r C:/Users/paulz/Desktop/projet_master/requierments.txt (line 5)) (4.9.0.80)\n",
      "Requirement already satisfied: torch in c:\\users\\paulz\\desktop\\projet_master\\venv\\lib\\site-packages (from -r C:/Users/paulz/Desktop/projet_master/requierments.txt (line 6)) (2.2.2)\n",
      "Requirement already satisfied: torchvision in c:\\users\\paulz\\desktop\\projet_master\\venv\\lib\\site-packages (from -r C:/Users/paulz/Desktop/projet_master/requierments.txt (line 7)) (0.17.2)\n",
      "Requirement already satisfied: imutils in c:\\users\\paulz\\desktop\\projet_master\\venv\\lib\\site-packages (from -r C:/Users/paulz/Desktop/projet_master/requierments.txt (line 8)) (0.5.4)\n",
      "Requirement already satisfied: scikit-learn in c:\\users\\paulz\\desktop\\projet_master\\venv\\lib\\site-packages (from -r C:/Users/paulz/Desktop/projet_master/requierments.txt (line 9)) (1.4.2)\n",
      "Requirement already satisfied: tensorflow in c:\\users\\paulz\\desktop\\projet_master\\venv\\lib\\site-packages (from -r C:/Users/paulz/Desktop/projet_master/requierments.txt (line 10)) (2.16.1)\n",
      "Requirement already satisfied: charset-normalizer<4,>=2 in c:\\users\\paulz\\desktop\\projet_master\\venv\\lib\\site-packages (from requests->-r C:/Users/paulz/Desktop/projet_master/requierments.txt (line 2)) (3.3.2)\n",
      "Requirement already satisfied: certifi>=2017.4.17 in c:\\users\\paulz\\desktop\\projet_master\\venv\\lib\\site-packages (from requests->-r C:/Users/paulz/Desktop/projet_master/requierments.txt (line 2)) (2024.2.2)\n",
      "Requirement already satisfied: urllib3<3,>=1.21.1 in c:\\users\\paulz\\desktop\\projet_master\\venv\\lib\\site-packages (from requests->-r C:/Users/paulz/Desktop/projet_master/requierments.txt (line 2)) (2.2.1)\n",
      "Requirement already satisfied: idna<4,>=2.5 in c:\\users\\paulz\\desktop\\projet_master\\venv\\lib\\site-packages (from requests->-r C:/Users/paulz/Desktop/projet_master/requierments.txt (line 2)) (3.6)\n",
      "Requirement already satisfied: beautifulsoup4 in c:\\users\\paulz\\desktop\\projet_master\\venv\\lib\\site-packages (from bs4->-r C:/Users/paulz/Desktop/projet_master/requierments.txt (line 3)) (4.12.3)\n",
      "Requirement already satisfied: kiwisolver>=1.3.1 in c:\\users\\paulz\\desktop\\projet_master\\venv\\lib\\site-packages (from matplotlib->-r C:/Users/paulz/Desktop/projet_master/requierments.txt (line 4)) (1.4.5)\n",
      "Requirement already satisfied: contourpy>=1.0.1 in c:\\users\\paulz\\desktop\\projet_master\\venv\\lib\\site-packages (from matplotlib->-r C:/Users/paulz/Desktop/projet_master/requierments.txt (line 4)) (1.2.1)\n",
      "Requirement already satisfied: cycler>=0.10 in c:\\users\\paulz\\desktop\\projet_master\\venv\\lib\\site-packages (from matplotlib->-r C:/Users/paulz/Desktop/projet_master/requierments.txt (line 4)) (0.12.1)\n",
      "Requirement already satisfied: numpy>=1.21 in c:\\users\\paulz\\desktop\\projet_master\\venv\\lib\\site-packages (from matplotlib->-r C:/Users/paulz/Desktop/projet_master/requierments.txt (line 4)) (1.26.4)\n",
      "Requirement already satisfied: fonttools>=4.22.0 in c:\\users\\paulz\\desktop\\projet_master\\venv\\lib\\site-packages (from matplotlib->-r C:/Users/paulz/Desktop/projet_master/requierments.txt (line 4)) (4.50.0)\n",
      "Requirement already satisfied: python-dateutil>=2.7 in c:\\users\\paulz\\desktop\\projet_master\\venv\\lib\\site-packages (from matplotlib->-r C:/Users/paulz/Desktop/projet_master/requierments.txt (line 4)) (2.9.0.post0)\n",
      "Requirement already satisfied: pyparsing>=2.3.1 in c:\\users\\paulz\\desktop\\projet_master\\venv\\lib\\site-packages (from matplotlib->-r C:/Users/paulz/Desktop/projet_master/requierments.txt (line 4)) (3.1.2)\n",
      "Requirement already satisfied: packaging>=20.0 in c:\\users\\paulz\\desktop\\projet_master\\venv\\lib\\site-packages (from matplotlib->-r C:/Users/paulz/Desktop/projet_master/requierments.txt (line 4)) (24.0)\n",
      "Requirement already satisfied: typing-extensions>=4.8.0 in c:\\users\\paulz\\desktop\\projet_master\\venv\\lib\\site-packages (from torch->-r C:/Users/paulz/Desktop/projet_master/requierments.txt (line 6)) (4.11.0)\n",
      "Requirement already satisfied: fsspec in c:\\users\\paulz\\desktop\\projet_master\\venv\\lib\\site-packages (from torch->-r C:/Users/paulz/Desktop/projet_master/requierments.txt (line 6)) (2024.3.1)\n",
      "Requirement already satisfied: networkx in c:\\users\\paulz\\desktop\\projet_master\\venv\\lib\\site-packages (from torch->-r C:/Users/paulz/Desktop/projet_master/requierments.txt (line 6)) (3.3)\n",
      "Requirement already satisfied: filelock in c:\\users\\paulz\\desktop\\projet_master\\venv\\lib\\site-packages (from torch->-r C:/Users/paulz/Desktop/projet_master/requierments.txt (line 6)) (3.13.3)\n",
      "Requirement already satisfied: sympy in c:\\users\\paulz\\desktop\\projet_master\\venv\\lib\\site-packages (from torch->-r C:/Users/paulz/Desktop/projet_master/requierments.txt (line 6)) (1.12)\n",
      "Requirement already satisfied: jinja2 in c:\\users\\paulz\\desktop\\projet_master\\venv\\lib\\site-packages (from torch->-r C:/Users/paulz/Desktop/projet_master/requierments.txt (line 6)) (3.1.3)\n",
      "Requirement already satisfied: threadpoolctl>=2.0.0 in c:\\users\\paulz\\desktop\\projet_master\\venv\\lib\\site-packages (from scikit-learn->-r C:/Users/paulz/Desktop/projet_master/requierments.txt (line 9)) (3.4.0)\n",
      "Requirement already satisfied: joblib>=1.2.0 in c:\\users\\paulz\\desktop\\projet_master\\venv\\lib\\site-packages (from scikit-learn->-r C:/Users/paulz/Desktop/projet_master/requierments.txt (line 9)) (1.4.0)\n",
      "Requirement already satisfied: scipy>=1.6.0 in c:\\users\\paulz\\desktop\\projet_master\\venv\\lib\\site-packages (from scikit-learn->-r C:/Users/paulz/Desktop/projet_master/requierments.txt (line 9)) (1.13.0)\n",
      "Requirement already satisfied: tensorflow-intel==2.16.1 in c:\\users\\paulz\\desktop\\projet_master\\venv\\lib\\site-packages (from tensorflow->-r C:/Users/paulz/Desktop/projet_master/requierments.txt (line 10)) (2.16.1)\n",
      "Requirement already satisfied: grpcio<2.0,>=1.24.3 in c:\\users\\paulz\\desktop\\projet_master\\venv\\lib\\site-packages (from tensorflow-intel==2.16.1->tensorflow->-r C:/Users/paulz/Desktop/projet_master/requierments.txt (line 10)) (1.63.0)\n",
      "Requirement already satisfied: tensorflow-io-gcs-filesystem>=0.23.1 in c:\\users\\paulz\\desktop\\projet_master\\venv\\lib\\site-packages (from tensorflow-intel==2.16.1->tensorflow->-r C:/Users/paulz/Desktop/projet_master/requierments.txt (line 10)) (0.31.0)\n",
      "Requirement already satisfied: wrapt>=1.11.0 in c:\\users\\paulz\\desktop\\projet_master\\venv\\lib\\site-packages (from tensorflow-intel==2.16.1->tensorflow->-r C:/Users/paulz/Desktop/projet_master/requierments.txt (line 10)) (1.16.0)\n",
      "Requirement already satisfied: h5py>=3.10.0 in c:\\users\\paulz\\desktop\\projet_master\\venv\\lib\\site-packages (from tensorflow-intel==2.16.1->tensorflow->-r C:/Users/paulz/Desktop/projet_master/requierments.txt (line 10)) (3.11.0)\n",
      "Requirement already satisfied: ml-dtypes~=0.3.1 in c:\\users\\paulz\\desktop\\projet_master\\venv\\lib\\site-packages (from tensorflow-intel==2.16.1->tensorflow->-r C:/Users/paulz/Desktop/projet_master/requierments.txt (line 10)) (0.3.2)\n",
      "Requirement already satisfied: flatbuffers>=23.5.26 in c:\\users\\paulz\\desktop\\projet_master\\venv\\lib\\site-packages (from tensorflow-intel==2.16.1->tensorflow->-r C:/Users/paulz/Desktop/projet_master/requierments.txt (line 10)) (24.3.25)\n",
      "Requirement already satisfied: gast!=0.5.0,!=0.5.1,!=0.5.2,>=0.2.1 in c:\\users\\paulz\\desktop\\projet_master\\venv\\lib\\site-packages (from tensorflow-intel==2.16.1->tensorflow->-r C:/Users/paulz/Desktop/projet_master/requierments.txt (line 10)) (0.5.4)\n",
      "Requirement already satisfied: libclang>=13.0.0 in c:\\users\\paulz\\desktop\\projet_master\\venv\\lib\\site-packages (from tensorflow-intel==2.16.1->tensorflow->-r C:/Users/paulz/Desktop/projet_master/requierments.txt (line 10)) (18.1.1)\n",
      "Requirement already satisfied: absl-py>=1.0.0 in c:\\users\\paulz\\desktop\\projet_master\\venv\\lib\\site-packages (from tensorflow-intel==2.16.1->tensorflow->-r C:/Users/paulz/Desktop/projet_master/requierments.txt (line 10)) (2.1.0)\n",
      "Requirement already satisfied: astunparse>=1.6.0 in c:\\users\\paulz\\desktop\\projet_master\\venv\\lib\\site-packages (from tensorflow-intel==2.16.1->tensorflow->-r C:/Users/paulz/Desktop/projet_master/requierments.txt (line 10)) (1.6.3)\n",
      "Requirement already satisfied: termcolor>=1.1.0 in c:\\users\\paulz\\desktop\\projet_master\\venv\\lib\\site-packages (from tensorflow-intel==2.16.1->tensorflow->-r C:/Users/paulz/Desktop/projet_master/requierments.txt (line 10)) (2.4.0)\n",
      "Requirement already satisfied: google-pasta>=0.1.1 in c:\\users\\paulz\\desktop\\projet_master\\venv\\lib\\site-packages (from tensorflow-intel==2.16.1->tensorflow->-r C:/Users/paulz/Desktop/projet_master/requierments.txt (line 10)) (0.2.0)\n",
      "Requirement already satisfied: six>=1.12.0 in c:\\users\\paulz\\desktop\\projet_master\\venv\\lib\\site-packages (from tensorflow-intel==2.16.1->tensorflow->-r C:/Users/paulz/Desktop/projet_master/requierments.txt (line 10)) (1.16.0)\n",
      "Requirement already satisfied: setuptools in c:\\users\\paulz\\desktop\\projet_master\\venv\\lib\\site-packages (from tensorflow-intel==2.16.1->tensorflow->-r C:/Users/paulz/Desktop/projet_master/requierments.txt (line 10)) (58.1.0)\n",
      "Requirement already satisfied: protobuf!=4.21.0,!=4.21.1,!=4.21.2,!=4.21.3,!=4.21.4,!=4.21.5,<5.0.0dev,>=3.20.3 in c:\\users\\paulz\\desktop\\projet_master\\venv\\lib\\site-packages (from tensorflow-intel==2.16.1->tensorflow->-r C:/Users/paulz/Desktop/projet_master/requierments.txt (line 10)) (4.25.3)\n",
      "Requirement already satisfied: tensorboard<2.17,>=2.16 in c:\\users\\paulz\\desktop\\projet_master\\venv\\lib\\site-packages (from tensorflow-intel==2.16.1->tensorflow->-r C:/Users/paulz/Desktop/projet_master/requierments.txt (line 10)) (2.16.2)\n",
      "Requirement already satisfied: keras>=3.0.0 in c:\\users\\paulz\\desktop\\projet_master\\venv\\lib\\site-packages (from tensorflow-intel==2.16.1->tensorflow->-r C:/Users/paulz/Desktop/projet_master/requierments.txt (line 10)) (3.3.3)\n",
      "Requirement already satisfied: opt-einsum>=2.3.2 in c:\\users\\paulz\\desktop\\projet_master\\venv\\lib\\site-packages (from tensorflow-intel==2.16.1->tensorflow->-r C:/Users/paulz/Desktop/projet_master/requierments.txt (line 10)) (3.3.0)\n",
      "Requirement already satisfied: soupsieve>1.2 in c:\\users\\paulz\\desktop\\projet_master\\venv\\lib\\site-packages (from beautifulsoup4->bs4->-r C:/Users/paulz/Desktop/projet_master/requierments.txt (line 3)) (2.5)\n",
      "Requirement already satisfied: MarkupSafe>=2.0 in c:\\users\\paulz\\desktop\\projet_master\\venv\\lib\\site-packages (from jinja2->torch->-r C:/Users/paulz/Desktop/projet_master/requierments.txt (line 6)) (2.1.5)\n",
      "Requirement already satisfied: mpmath>=0.19 in c:\\users\\paulz\\desktop\\projet_master\\venv\\lib\\site-packages (from sympy->torch->-r C:/Users/paulz/Desktop/projet_master/requierments.txt (line 6)) (1.3.0)\n",
      "Requirement already satisfied: wheel<1.0,>=0.23.0 in c:\\users\\paulz\\desktop\\projet_master\\venv\\lib\\site-packages (from astunparse>=1.6.0->tensorflow-intel==2.16.1->tensorflow->-r C:/Users/paulz/Desktop/projet_master/requierments.txt (line 10)) (0.43.0)\n",
      "Requirement already satisfied: rich in c:\\users\\paulz\\desktop\\projet_master\\venv\\lib\\site-packages (from keras>=3.0.0->tensorflow-intel==2.16.1->tensorflow->-r C:/Users/paulz/Desktop/projet_master/requierments.txt (line 10)) (13.7.1)\n",
      "Requirement already satisfied: optree in c:\\users\\paulz\\desktop\\projet_master\\venv\\lib\\site-packages (from keras>=3.0.0->tensorflow-intel==2.16.1->tensorflow->-r C:/Users/paulz/Desktop/projet_master/requierments.txt (line 10)) (0.11.0)\n",
      "Requirement already satisfied: namex in c:\\users\\paulz\\desktop\\projet_master\\venv\\lib\\site-packages (from keras>=3.0.0->tensorflow-intel==2.16.1->tensorflow->-r C:/Users/paulz/Desktop/projet_master/requierments.txt (line 10)) (0.0.8)\n",
      "Requirement already satisfied: markdown>=2.6.8 in c:\\users\\paulz\\desktop\\projet_master\\venv\\lib\\site-packages (from tensorboard<2.17,>=2.16->tensorflow-intel==2.16.1->tensorflow->-r C:/Users/paulz/Desktop/projet_master/requierments.txt (line 10)) (3.6)\n",
      "Requirement already satisfied: werkzeug>=1.0.1 in c:\\users\\paulz\\desktop\\projet_master\\venv\\lib\\site-packages (from tensorboard<2.17,>=2.16->tensorflow-intel==2.16.1->tensorflow->-r C:/Users/paulz/Desktop/projet_master/requierments.txt (line 10)) (3.0.3)\n",
      "Requirement already satisfied: tensorboard-data-server<0.8.0,>=0.7.0 in c:\\users\\paulz\\desktop\\projet_master\\venv\\lib\\site-packages (from tensorboard<2.17,>=2.16->tensorflow-intel==2.16.1->tensorflow->-r C:/Users/paulz/Desktop/projet_master/requierments.txt (line 10)) (0.7.2)\n",
      "Requirement already satisfied: pygments<3.0.0,>=2.13.0 in c:\\users\\paulz\\desktop\\projet_master\\venv\\lib\\site-packages (from rich->keras>=3.0.0->tensorflow-intel==2.16.1->tensorflow->-r C:/Users/paulz/Desktop/projet_master/requierments.txt (line 10)) (2.18.0)\n",
      "Requirement already satisfied: markdown-it-py>=2.2.0 in c:\\users\\paulz\\desktop\\projet_master\\venv\\lib\\site-packages (from rich->keras>=3.0.0->tensorflow-intel==2.16.1->tensorflow->-r C:/Users/paulz/Desktop/projet_master/requierments.txt (line 10)) (3.0.0)\n",
      "Requirement already satisfied: mdurl~=0.1 in c:\\users\\paulz\\desktop\\projet_master\\venv\\lib\\site-packages (from markdown-it-py>=2.2.0->rich->keras>=3.0.0->tensorflow-intel==2.16.1->tensorflow->-r C:/Users/paulz/Desktop/projet_master/requierments.txt (line 10)) (0.1.2)\n",
      "Note: you may need to restart the kernel to use updated packages.\n"
     ]
    },
    {
     "name": "stderr",
     "output_type": "stream",
     "text": [
      "WARNING: You are using pip version 22.0.4; however, version 24.0 is available.\n",
      "You should consider upgrading via the 'c:\\Users\\paulz\\Desktop\\projet_master\\venv\\Scripts\\python.exe -m pip install --upgrade pip' command.\n"
     ]
    }
   ],
   "source": [
    "pip install -r C:/Users/paulz/Desktop/projet_master/requierments.txt"
   ]
  },
  {
   "cell_type": "code",
   "execution_count": 2,
   "metadata": {},
   "outputs": [],
   "source": [
    "# Importation des packages\n",
    "import os\n",
    "from PIL import Image, ImageEnhance\n",
    "import cv2\n",
    "import imutils\n",
    "import numpy as np\n",
    "from torchvision.transforms import v2"
   ]
  },
  {
   "cell_type": "markdown",
   "metadata": {},
   "source": [
    "## Enhance Data: Brightness Modifier"
   ]
  },
  {
   "cell_type": "code",
   "execution_count": 3,
   "metadata": {},
   "outputs": [],
   "source": [
    "# Modification de l'image: Luminosité\n",
    "def apply_brightness_modif(img_file, folder_path):\n",
    "\n",
    "    img = Image.open('flags/%s.png'%img_file).convert('RGBA')\n",
    "    img.thumbnail((512,512))\n",
    "\n",
    "    enhancer = ImageEnhance.Brightness(img)\n",
    "    factor = [0.05, 0.2,0.5,1.5,2,3,4,6,8,10]\n",
    "    for f in factor:\n",
    "        # Si le facteur i est en dessous de 1 l'image est sous exposé, et inversemment\n",
    "        bright_img = enhancer.enhance(f)\n",
    "        bright_img.save('{0}/{1}_bright_{2}.png'.format(folder_path,img_file,f))"
   ]
  },
  {
   "cell_type": "markdown",
   "metadata": {},
   "source": [
    "## Enhance Data: Noise Modifier"
   ]
  },
  {
   "cell_type": "code",
   "execution_count": 4,
   "metadata": {},
   "outputs": [],
   "source": [
    "def add_gaussian_noise(img, mean = 0, std = 25):\n",
    "\n",
    "    noise = np.random.normal(mean, std, img.shape).astype(np.uint8)\n",
    "    noisy_img = cv2.add(img, noise)\n",
    "\n",
    "    return noisy_img\n",
    "\n",
    "def apply_noise_modif(img_file, folder_path):\n",
    "\n",
    "    img = cv2.imread('flags/%s.png'%img_file)\n",
    "    img = imutils.resize(img, width = 512)\n",
    "    \n",
    "    for i in range(1,11):\n",
    "        std = round(10**(i/5))\n",
    "        noisy_img = add_gaussian_noise(img,0,std)\n",
    "    \n",
    "        cv2.imwrite('{0}/{1}_noise_{2}.png'.format(folder_path,img_file,std), noisy_img)"
   ]
  },
  {
   "cell_type": "markdown",
   "metadata": {},
   "source": [
    "## Enhance Data: Wave Modifier"
   ]
  },
  {
   "cell_type": "code",
   "execution_count": 5,
   "metadata": {},
   "outputs": [],
   "source": [
    "def apply_wave_modif(img_file, folder_path):\n",
    "\n",
    "    # Image test (Afrique du sud)\n",
    "    img = Image.open('flags/%s.png'%img_file).convert('RGBA')\n",
    "    img.thumbnail((512,512))\n",
    "\n",
    "    for a in range(1,11):\n",
    "        # modification du param exponentiel pour avoir des résultat plus \"extrème\"\n",
    "        alpha = a**3\n",
    "\n",
    "        # Applique la déformation suivant le niveau alpha\n",
    "        elastic_transformer = v2.ElasticTransform(alpha=alpha)\n",
    "        wavey_img = elastic_transformer(img)\n",
    "        wavey_img.save('{0}/{1}_wave_{2}.png'.format(folder_path,img_file,alpha))"
   ]
  },
  {
   "cell_type": "markdown",
   "metadata": {},
   "source": [
    "## Create Dataset"
   ]
  },
  {
   "cell_type": "code",
   "execution_count": 6,
   "metadata": {},
   "outputs": [
    {
     "name": "stdout",
     "output_type": "stream",
     "text": [
      "Flags:  ['ag' 'ph' 'qa' 'gh' 'fr' 'pt' 'sb' 'ru' 'ge' 'ne']\n"
     ]
    }
   ],
   "source": [
    "FLAG_LIST_DIR = 'flag_list.txt'\n",
    "DATASET_DIR = 'C:/Users/paulz/Desktop/projet_master/input_data'\n",
    "\n",
    "with open(FLAG_LIST_DIR, 'r') as f:\n",
    "    flags = [line[:-1] for line in f]\n",
    "\n",
    "selected_flags = np.random.choice(flags,10)\n",
    "\n",
    "# Crée ou détruit le dossier d'inputs\n",
    "if not os.path.exists(DATASET_DIR):\n",
    "    os.makedirs(DATASET_DIR)       \n",
    "\n",
    "for flag in selected_flags:\n",
    "\n",
    "    flag_dir = '{0}/{1}'.format(DATASET_DIR,flag)\n",
    "\n",
    "    if os.path.exists(flag_dir) == False:\n",
    "        os.makedirs(flag_dir)\n",
    "\n",
    "    apply_brightness_modif(flag,flag_dir)\n",
    "    apply_noise_modif(flag,flag_dir)\n",
    "    apply_wave_modif(flag,flag_dir)\n",
    "\n",
    "print('Flags: ', selected_flags)"
   ]
  },
  {
   "cell_type": "markdown",
   "metadata": {},
   "source": [
    "## KNN Classification"
   ]
  },
  {
   "cell_type": "code",
   "execution_count": 7,
   "metadata": {},
   "outputs": [],
   "source": [
    "#package importation\n",
    "from sklearn.model_selection import train_test_split\n",
    "from sklearn.neighbors import KNeighborsClassifier\n",
    "from sklearn.metrics import accuracy_score, precision_score, recall_score, f1_score"
   ]
  },
  {
   "cell_type": "code",
   "execution_count": 8,
   "metadata": {},
   "outputs": [
    {
     "name": "stdout",
     "output_type": "stream",
     "text": [
      "300 ['ag', 'ag', 'ag', 'ag', 'ag', 'ag', 'ag', 'ag', 'ag', 'ag', 'ag', 'ag', 'ag', 'ag', 'ag', 'ag', 'ag', 'ag', 'ag', 'ag', 'ag', 'ag', 'ag', 'ag', 'ag', 'ag', 'ag', 'ag', 'ag', 'ag', 'fr', 'fr', 'fr', 'fr', 'fr', 'fr', 'fr', 'fr', 'fr', 'fr', 'fr', 'fr', 'fr', 'fr', 'fr', 'fr', 'fr', 'fr', 'fr', 'fr', 'fr', 'fr', 'fr', 'fr', 'fr', 'fr', 'fr', 'fr', 'fr', 'fr', 'ge', 'ge', 'ge', 'ge', 'ge', 'ge', 'ge', 'ge', 'ge', 'ge', 'ge', 'ge', 'ge', 'ge', 'ge', 'ge', 'ge', 'ge', 'ge', 'ge', 'ge', 'ge', 'ge', 'ge', 'ge', 'ge', 'ge', 'ge', 'ge', 'ge', 'gh', 'gh', 'gh', 'gh', 'gh', 'gh', 'gh', 'gh', 'gh', 'gh', 'gh', 'gh', 'gh', 'gh', 'gh', 'gh', 'gh', 'gh', 'gh', 'gh', 'gh', 'gh', 'gh', 'gh', 'gh', 'gh', 'gh', 'gh', 'gh', 'gh', 'ne', 'ne', 'ne', 'ne', 'ne', 'ne', 'ne', 'ne', 'ne', 'ne', 'ne', 'ne', 'ne', 'ne', 'ne', 'ne', 'ne', 'ne', 'ne', 'ne', 'ne', 'ne', 'ne', 'ne', 'ne', 'ne', 'ne', 'ne', 'ne', 'ne', 'ph', 'ph', 'ph', 'ph', 'ph', 'ph', 'ph', 'ph', 'ph', 'ph', 'ph', 'ph', 'ph', 'ph', 'ph', 'ph', 'ph', 'ph', 'ph', 'ph', 'ph', 'ph', 'ph', 'ph', 'ph', 'ph', 'ph', 'ph', 'ph', 'ph', 'pt', 'pt', 'pt', 'pt', 'pt', 'pt', 'pt', 'pt', 'pt', 'pt', 'pt', 'pt', 'pt', 'pt', 'pt', 'pt', 'pt', 'pt', 'pt', 'pt', 'pt', 'pt', 'pt', 'pt', 'pt', 'pt', 'pt', 'pt', 'pt', 'pt', 'qa', 'qa', 'qa', 'qa', 'qa', 'qa', 'qa', 'qa', 'qa', 'qa', 'qa', 'qa', 'qa', 'qa', 'qa', 'qa', 'qa', 'qa', 'qa', 'qa', 'qa', 'qa', 'qa', 'qa', 'qa', 'qa', 'qa', 'qa', 'qa', 'qa', 'ru', 'ru', 'ru', 'ru', 'ru', 'ru', 'ru', 'ru', 'ru', 'ru', 'ru', 'ru', 'ru', 'ru', 'ru', 'ru', 'ru', 'ru', 'ru', 'ru', 'ru', 'ru', 'ru', 'ru', 'ru', 'ru', 'ru', 'ru', 'ru', 'ru', 'sb', 'sb', 'sb', 'sb', 'sb', 'sb', 'sb', 'sb', 'sb', 'sb', 'sb', 'sb', 'sb', 'sb', 'sb', 'sb', 'sb', 'sb', 'sb', 'sb', 'sb', 'sb', 'sb', 'sb', 'sb', 'sb', 'sb', 'sb', 'sb', 'sb']\n"
     ]
    }
   ],
   "source": [
    "def load_images(input_dir):\n",
    "    images = []\n",
    "    labels = []\n",
    "\n",
    "    for folder in os.listdir(input_dir):\n",
    "\n",
    "        label_folder = os.path.join(input_dir, folder)\n",
    "        if os.path.isdir(label_folder):\n",
    "            for filename in os.listdir(label_folder):\n",
    "                img_path = os.path.join(label_folder, filename)\n",
    "                img = cv2.imread(img_path)\n",
    "                if img is not None:\n",
    "                    images.append(img)\n",
    "                    labels.append(folder)\n",
    "    return images, labels\n",
    "\n",
    "images, labels = load_images(DATASET_DIR)\n",
    "print(len(images), labels)"
   ]
  },
  {
   "cell_type": "code",
   "execution_count": 9,
   "metadata": {},
   "outputs": [],
   "source": [
    "def preprocess_images(images, size=(64, 64)):\n",
    "    preprocessed_images = []\n",
    "    for img in images:\n",
    "        # Resize image\n",
    "        resized_img = cv2.resize(img, size)\n",
    "        # Flatten the image\n",
    "        flattened_img = resized_img.flatten()\n",
    "        preprocessed_images.append(flattened_img)\n",
    "    return np.array(preprocessed_images)"
   ]
  },
  {
   "cell_type": "code",
   "execution_count": 10,
   "metadata": {},
   "outputs": [
    {
     "name": "stdout",
     "output_type": "stream",
     "text": [
      "N-Neighbors: 1 | Accuracy: 93.33% | Precision: 94.03% | Recall: 93.33% | F1: 93.41%\n",
      "N-Neighbors: 2 | Accuracy: 91.67% | Precision: 93.24% | Recall: 91.67% | F1: 91.94%\n",
      "N-Neighbors: 3 | Accuracy: 91.67% | Precision: 93.24% | Recall: 91.67% | F1: 91.94%\n",
      "N-Neighbors: 4 | Accuracy: 88.33% | Precision: 92.62% | Recall: 88.33% | F1: 89.50%\n",
      "N-Neighbors: 5 | Accuracy: 88.33% | Precision: 92.62% | Recall: 88.33% | F1: 89.50%\n",
      "N-Neighbors: 6 | Accuracy: 88.33% | Precision: 93.54% | Recall: 88.33% | F1: 89.87%\n",
      "N-Neighbors: 7 | Accuracy: 88.33% | Precision: 92.14% | Recall: 88.33% | F1: 89.36%\n",
      "N-Neighbors: 8 | Accuracy: 90.00% | Precision: 91.61% | Recall: 90.00% | F1: 90.24%\n",
      "N-Neighbors: 9 | Accuracy: 88.33% | Precision: 90.25% | Recall: 88.33% | F1: 88.59%\n"
     ]
    }
   ],
   "source": [
    "X = preprocess_images(images, (126,126))\n",
    "y = np.array(labels)\n",
    "\n",
    "X_train, X_test, y_train, y_test = train_test_split(X, y, \n",
    "                                                    test_size=0.2,\n",
    "                                                    random_state=1)\n",
    "\n",
    "for i in range(1,10):\n",
    "    knn = KNeighborsClassifier(n_neighbors=i)\n",
    "    knn.fit(X_train, y_train)\n",
    "\n",
    "    y_pred = knn.predict(X_test)\n",
    "    accuracy = accuracy_score(y_test,y_pred)\n",
    "    precision = precision_score(y_test,y_pred, average='weighted')\n",
    "    recall = recall_score(y_test,y_pred, average='weighted')\n",
    "    f1 = f1_score(y_test,y_pred, average='weighted')\n",
    "\n",
    "    print(f'N-Neighbors: {i} | Accuracy: {accuracy*100:.2f}% | Precision: {precision*100:.2f}% | Recall: {recall*100:.2f}% | F1: {f1*100:.2f}%')"
   ]
  },
  {
   "cell_type": "markdown",
   "metadata": {},
   "source": [
    "# SVM"
   ]
  },
  {
   "cell_type": "code",
   "execution_count": 11,
   "metadata": {},
   "outputs": [],
   "source": [
    "from sklearn import svm\n",
    "from sklearn.preprocessing import LabelEncoder"
   ]
  },
  {
   "cell_type": "code",
   "execution_count": 12,
   "metadata": {},
   "outputs": [
    {
     "name": "stdout",
     "output_type": "stream",
     "text": [
      "kernel: linear | Accuracy: 93.33% | Precision: 94.94% | Recall: 93.33% | F1: 93.63%\n",
      "kernel: poly | Accuracy: 90.00% | Precision: 94.62% | Recall: 90.00% | F1: 91.04%\n",
      "kernel: rbf | Accuracy: 90.00% | Precision: 92.61% | Recall: 90.00% | F1: 90.41%\n",
      "kernel: sigmoid | Accuracy: 35.00% | Precision: 55.75% | Recall: 35.00% | F1: 37.87%\n"
     ]
    },
    {
     "name": "stderr",
     "output_type": "stream",
     "text": [
      "c:\\Users\\paulz\\Desktop\\projet_master\\venv\\lib\\site-packages\\sklearn\\metrics\\_classification.py:1509: UndefinedMetricWarning: Precision is ill-defined and being set to 0.0 in labels with no predicted samples. Use `zero_division` parameter to control this behavior.\n",
      "  _warn_prf(average, modifier, f\"{metric.capitalize()} is\", len(result))\n"
     ]
    }
   ],
   "source": [
    "\n",
    "images, labels = load_images(DATASET_DIR)\n",
    "images = preprocess_images(images, (126,126))\n",
    "labels = np.array(labels)\n",
    "\n",
    "label_encoder = LabelEncoder()\n",
    "encoded_labels = label_encoder.fit_transform(labels)\n",
    "\n",
    "X_train, X_test, y_train, y_test = train_test_split(images,\n",
    "                                                    encoded_labels,\n",
    "                                                    test_size=0.2,\n",
    "                                                    random_state=1)\n",
    "\n",
    "kernels = ('linear', 'poly', 'rbf', 'sigmoid')\n",
    "\n",
    "for kernel in kernels:\n",
    "    classifier = svm.SVC(kernel=kernel)\n",
    "    classifier.fit(X_train, y_train)\n",
    "\n",
    "    y_pred = classifier.predict(X_test)\n",
    "    accuracy = accuracy_score(y_test,y_pred)\n",
    "    precision = precision_score(y_test,y_pred, average='weighted')\n",
    "    recall = recall_score(y_test,y_pred, average='weighted')\n",
    "    f1 = f1_score(y_test,y_pred, average='weighted')\n",
    "\n",
    "    print(f'kernel: {kernel} | Accuracy: {accuracy*100:.2f}% | Precision: {precision*100:.2f}% | Recall: {recall*100:.2f}% | F1: {f1*100:.2f}%')"
   ]
  },
  {
   "cell_type": "markdown",
   "metadata": {},
   "source": [
    "# CNN"
   ]
  },
  {
   "cell_type": "code",
   "execution_count": 13,
   "metadata": {},
   "outputs": [],
   "source": [
    "# Packages import\n",
    "import tensorflow as tf\n",
    "from tensorflow.keras.preprocessing.image import ImageDataGenerator\n",
    "from tensorflow.keras.models import Sequential\n",
    "from tensorflow.keras.layers import Conv2D, MaxPooling2D, Flatten, Dense\n",
    "import matplotlib.pyplot as plt"
   ]
  },
  {
   "cell_type": "code",
   "execution_count": 14,
   "metadata": {},
   "outputs": [
    {
     "name": "stdout",
     "output_type": "stream",
     "text": [
      "Found 240 images belonging to 10 classes.\n",
      "Found 60 images belonging to 10 classes.\n"
     ]
    }
   ],
   "source": [
    "train_datagen = ImageDataGenerator(rescale=1./255, validation_split=0.2)\n",
    "\n",
    "train_generator = train_datagen.flow_from_directory(\n",
    "    DATASET_DIR,\n",
    "    target_size=(150, 150),\n",
    "    batch_size=32,\n",
    "    class_mode='categorical',\n",
    "    subset='training'\n",
    ")\n",
    "\n",
    "validation_generator = train_datagen.flow_from_directory(\n",
    "    DATASET_DIR,\n",
    "    target_size=(150, 150),\n",
    "    batch_size=32,\n",
    "    class_mode='categorical',\n",
    "    subset='validation'\n",
    ")"
   ]
  },
  {
   "cell_type": "code",
   "execution_count": 15,
   "metadata": {},
   "outputs": [
    {
     "name": "stderr",
     "output_type": "stream",
     "text": [
      "c:\\Users\\paulz\\Desktop\\projet_master\\venv\\lib\\site-packages\\keras\\src\\layers\\convolutional\\base_conv.py:107: UserWarning: Do not pass an `input_shape`/`input_dim` argument to a layer. When using Sequential models, prefer using an `Input(shape)` object as the first layer in the model instead.\n",
      "  super().__init__(activity_regularizer=activity_regularizer, **kwargs)\n"
     ]
    }
   ],
   "source": [
    "model = Sequential([\n",
    "    Conv2D(32, (3, 3), activation='relu', input_shape=(150, 150, 3)),\n",
    "    MaxPooling2D((2, 2)),\n",
    "    Conv2D(64, (3, 3), activation='relu'),\n",
    "    MaxPooling2D((2, 2)),\n",
    "    Conv2D(128, (3, 3), activation='relu'),\n",
    "    MaxPooling2D((2, 2)),\n",
    "    Flatten(),\n",
    "    Dense(512, activation='relu'),\n",
    "    Dense(train_generator.num_classes, activation='softmax')\n",
    "])\n",
    "\n",
    "model.compile(optimizer='adam',\n",
    "              loss='categorical_crossentropy',\n",
    "              metrics=['accuracy'])"
   ]
  }
 ],
 "metadata": {
  "kernelspec": {
   "display_name": "venv",
   "language": "python",
   "name": "python3"
  },
  "language_info": {
   "codemirror_mode": {
    "name": "ipython",
    "version": 3
   },
   "file_extension": ".py",
   "mimetype": "text/x-python",
   "name": "python",
   "nbconvert_exporter": "python",
   "pygments_lexer": "ipython3",
   "version": "3.10.4"
  }
 },
 "nbformat": 4,
 "nbformat_minor": 2
}
